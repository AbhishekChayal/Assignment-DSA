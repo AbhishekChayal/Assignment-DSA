{
 "cells": [
  {
   "cell_type": "markdown",
   "metadata": {},
   "source": [
    "Problem 1: Reverse a singly linked list.\n",
    "\n",
    "Input: 1 -> 2 -> 3 -> 4 -> 5    Output: 5 -> 4 -> 3 -> 2 -> 1"
   ]
  },
  {
   "cell_type": "code",
   "execution_count": 1,
   "metadata": {},
   "outputs": [
    {
     "name": "stdout",
     "output_type": "stream",
     "text": [
      "Original list:\n",
      "1 -> 2 -> 3 -> 4 -> 5\n",
      "Reversed list:\n",
      "5 -> 4 -> 3 -> 2 -> 1\n"
     ]
    }
   ],
   "source": [
    "class ListNode:\n",
    "    def __init__(self, value=0, next=None):\n",
    "        self.value = value\n",
    "        self.next = next\n",
    "\n",
    "def reverse_linked_list(head):\n",
    "    prev = None\n",
    "    current = head\n",
    "    while current is not None:\n",
    "        next_node = current.next  # Save the next node\n",
    "        current.next = prev       # Reverse the link\n",
    "        prev = current            # Move prev to the current node\n",
    "        current = next_node       # Move to the next node\n",
    "    return prev\n",
    "\n",
    "# Helper function to print the list\n",
    "def print_list(head):\n",
    "    while head:\n",
    "        print(head.value, end=' -> ' if head.next else '')\n",
    "        head = head.next\n",
    "    print()\n",
    "\n",
    "# Example usage\n",
    "head = ListNode(1, ListNode(2, ListNode(3, ListNode(4, ListNode(5)))))\n",
    "print(\"Original list:\")\n",
    "print_list(head)\n",
    "\n",
    "reversed_head = reverse_linked_list(head)\n",
    "print(\"Reversed list:\")\n",
    "print_list(reversed_head)\n"
   ]
  },
  {
   "cell_type": "markdown",
   "metadata": {},
   "source": [
    "Problem 2: Merge two sorted linked lists into one sorted linked list.\n",
    "\n",
    "Input: List 1: 1 -> 3 -> 5, List 2: 2 -> 4 -> 6\n",
    "Output: 1 -> 2 -> 3 -> 4 -> 5 -> 6"
   ]
  },
  {
   "cell_type": "code",
   "execution_count": 2,
   "metadata": {},
   "outputs": [
    {
     "name": "stdout",
     "output_type": "stream",
     "text": [
      "List 1:\n",
      "1 -> 3 -> 5\n",
      "List 2:\n",
      "2 -> 4 -> 6\n",
      "Merged list:\n",
      "1 -> 2 -> 3 -> 4 -> 5 -> 6\n"
     ]
    }
   ],
   "source": [
    "class ListNode:\n",
    "    def __init__(self, value=0, next=None):\n",
    "        self.value = value\n",
    "        self.next = next\n",
    "\n",
    "def merge_two_sorted_lists(l1, l2):\n",
    "    dummy = ListNode()  # Dummy node to act as the start of the merged list\n",
    "    current = dummy     # Pointer to build the new list\n",
    "\n",
    "    while l1 is not None and l2 is not None:\n",
    "        if l1.value <= l2.value:\n",
    "            current.next = l1\n",
    "            l1 = l1.next\n",
    "        else:\n",
    "            current.next = l2\n",
    "            l2 = l2.next\n",
    "        current = current.next\n",
    "\n",
    "    # Attach any remaining nodes from l1 or l2\n",
    "    if l1 is not None:\n",
    "        current.next = l1\n",
    "    elif l2 is not None:\n",
    "        current.next = l2\n",
    "\n",
    "    return dummy.next\n",
    "\n",
    "# Helper function to print the list\n",
    "def print_list(head):\n",
    "    while head:\n",
    "        print(head.value, end=' -> ' if head.next else '')\n",
    "        head = head.next\n",
    "    print()\n",
    "\n",
    "# Example usage\n",
    "list1 = ListNode(1, ListNode(3, ListNode(5)))\n",
    "list2 = ListNode(2, ListNode(4, ListNode(6)))\n",
    "\n",
    "print(\"List 1:\")\n",
    "print_list(list1)\n",
    "\n",
    "print(\"List 2:\")\n",
    "print_list(list2)\n",
    "\n",
    "merged_list = merge_two_sorted_lists(list1, list2)\n",
    "print(\"Merged list:\")\n",
    "print_list(merged_list)\n"
   ]
  },
  {
   "cell_type": "markdown",
   "metadata": {},
   "source": [
    "Problem 3: Remove the nth node from the end of a linked list.\n",
    "\n",
    "Input: 1 -> 2 -> 3 -> 4 -> 5, n = 2\n",
    "Output: 1 -> 2 -> 3 -> 5"
   ]
  },
  {
   "cell_type": "code",
   "execution_count": 3,
   "metadata": {},
   "outputs": [
    {
     "name": "stdout",
     "output_type": "stream",
     "text": [
      "Original list:\n",
      "1 -> 2 -> 3 -> 4 -> 5\n",
      "List after removing the 2th node from the end:\n",
      "1 -> 2 -> 3 -> 5\n"
     ]
    }
   ],
   "source": [
    "class ListNode:\n",
    "    def __init__(self, value=0, next=None):\n",
    "        self.value = value\n",
    "        self.next = next\n",
    "\n",
    "def remove_nth_from_end(head, n):\n",
    "    dummy = ListNode(0)\n",
    "    dummy.next = head\n",
    "    first = dummy\n",
    "    second = dummy\n",
    "\n",
    "    # Advance first pointer by n + 1 steps\n",
    "    for _ in range(n + 1):\n",
    "        first = first.next\n",
    "\n",
    "    # Move both pointers until first reaches the end\n",
    "    while first is not None:\n",
    "        first = first.next\n",
    "        second = second.next\n",
    "\n",
    "    # Remove the nth node from the end\n",
    "    second.next = second.next.next\n",
    "\n",
    "    return dummy.next\n",
    "\n",
    "# Helper function to print the list\n",
    "def print_list(head):\n",
    "    while head:\n",
    "        print(head.value, end=' -> ' if head.next else '')\n",
    "        head = head.next\n",
    "    print()\n",
    "\n",
    "# Example usage\n",
    "head = ListNode(1, ListNode(2, ListNode(3, ListNode(4, ListNode(5)))))\n",
    "\n",
    "print(\"Original list:\")\n",
    "print_list(head)\n",
    "\n",
    "n = 2\n",
    "new_head = remove_nth_from_end(head, n)\n",
    "print(f\"List after removing the {n}th node from the end:\")\n",
    "print_list(new_head)\n"
   ]
  },
  {
   "cell_type": "markdown",
   "metadata": {},
   "source": [
    "Problem 4: Find the intersection point of two linked lists.\n",
    "\n",
    "Input: List 1: 1 -> 2 -> 3 -> 4, List 2: 9 -> 8 -> 3 -> 4\n",
    "Output: Node with value 3"
   ]
  },
  {
   "cell_type": "code",
   "execution_count": 6,
   "metadata": {},
   "outputs": [
    {
     "name": "stdout",
     "output_type": "stream",
     "text": [
      "List 1:\n",
      "1 -> 2 -> 3 -> 4\n",
      "List 2:\n",
      "9 -> 8 -> 3 -> 4\n",
      "Intersection point: 3\n"
     ]
    }
   ],
   "source": [
    "class ListNode:\n",
    "    def __init__(self, value=0, next=None):\n",
    "        self.value = value\n",
    "        self.next = next\n",
    "\n",
    "def get_intersection_node(headA, headB):\n",
    "    if headA is None or headB is None:\n",
    "        return None\n",
    "\n",
    "    pointer1 = headA\n",
    "    pointer2 = headB\n",
    "\n",
    "    while pointer1 != pointer2:\n",
    "        pointer1 = pointer1.next if pointer1 is not None else headB\n",
    "        pointer2 = pointer2.next if pointer2 is not None else headA\n",
    "\n",
    "    return pointer1  # This will be the intersection node or None if no intersection\n",
    "\n",
    "# Helper function to print the list\n",
    "def print_list(head):\n",
    "    while head:\n",
    "        print(head.value, end=' -> ' if head.next else '')\n",
    "        head = head.next\n",
    "    print()\n",
    "\n",
    "# Helper function to find intersection in the example\n",
    "def find_intersection_node(headA, headB):\n",
    "    intersection_node = get_intersection_node(headA, headB)\n",
    "    if intersection_node:\n",
    "        print(f\"Intersection point: {intersection_node.value}\")\n",
    "    else:\n",
    "        print(\"No intersection\")\n",
    "\n",
    "# Example usage\n",
    "# Creating list 1: 1 -> 2 -> 3 -> 4\n",
    "list1 = ListNode(1, ListNode(2, ListNode(3, ListNode(4))))\n",
    "\n",
    "# Creating list 2: 9 -> 8 -> 3 -> 4 (same 3 -> 4 as list 1)\n",
    "list2 = ListNode(9, ListNode(8, list1.next.next))  # list1.next.next points to node 3\n",
    "\n",
    "print(\"List 1:\")\n",
    "print_list(list1)\n",
    "\n",
    "print(\"List 2:\")\n",
    "print_list(list2)\n",
    "\n",
    "find_intersection_node(list1, list2)\n"
   ]
  },
  {
   "cell_type": "markdown",
   "metadata": {},
   "source": [
    "Problem 5: Remove duplicates from a sorted linked list.\n",
    "\n",
    "Input: 1 -> 1 -> 2 -> 3 -> 3\n",
    "Output: 1 -> 2 -> 3"
   ]
  },
  {
   "cell_type": "code",
   "execution_count": 1,
   "metadata": {},
   "outputs": [
    {
     "name": "stdout",
     "output_type": "stream",
     "text": [
      "Original List:\n",
      "1 -> 1 -> 2 -> 3 -> 3\n",
      "List after removing duplicates:\n",
      "1 -> 2 -> 3\n"
     ]
    }
   ],
   "source": [
    "class ListNode:\n",
    "    def __init__(self, val=0, next=None):\n",
    "        self.val = val\n",
    "        self.next = next\n",
    "\n",
    "def deleteDuplicates(head: ListNode) -> ListNode:\n",
    "    current = head\n",
    "    \n",
    "    while current and current.next:\n",
    "        if current.val == current.next.val:\n",
    "            current.next = current.next.next  # Skip the duplicate node\n",
    "        else:\n",
    "            current = current.next  # Move to the next distinct element\n",
    "    \n",
    "    return head\n",
    "\n",
    "# Helper function to print the linked list\n",
    "def printLinkedList(head: ListNode):\n",
    "    current = head\n",
    "    while current:\n",
    "        print(current.val, end=\" -> \" if current.next else \"\")\n",
    "        current = current.next\n",
    "    print()\n",
    "\n",
    "# Example usage:\n",
    "head = ListNode(1, ListNode(1, ListNode(2, ListNode(3, ListNode(3)))))\n",
    "print(\"Original List:\")\n",
    "printLinkedList(head)\n",
    "\n",
    "head = deleteDuplicates(head)\n",
    "\n",
    "print(\"List after removing duplicates:\")\n",
    "printLinkedList(head)\n"
   ]
  },
  {
   "cell_type": "markdown",
   "metadata": {},
   "source": [
    "Problem 6: Add two numbers represented by linked lists (where each node contains a single digit).\n",
    "\n",
    "Input: List 1: 2 -> 4 -> 3, List 2: 5 -> 6 -> 4 (represents 342 + 465)\n",
    "Output: 7 -> 0 -> 8 (represents 807)"
   ]
  },
  {
   "cell_type": "code",
   "execution_count": 2,
   "metadata": {},
   "outputs": [
    {
     "name": "stdout",
     "output_type": "stream",
     "text": [
      "List 1:\n",
      "2 -> 4 -> 3\n",
      "List 2:\n",
      "5 -> 6 -> 4\n",
      "Sum List:\n",
      "7 -> 0 -> 8\n"
     ]
    }
   ],
   "source": [
    "class ListNode:\n",
    "    def __init__(self, val=0, next=None):\n",
    "        self.val = val\n",
    "        self.next = next\n",
    "\n",
    "def addTwoNumbers(l1: ListNode, l2: ListNode) -> ListNode:\n",
    "    dummy = ListNode()  # Dummy node to simplify the result list creation\n",
    "    current = dummy  # Pointer to the current node in the result list\n",
    "    carry = 0  # To keep track of the carry\n",
    "    \n",
    "    while l1 or l2 or carry:\n",
    "        val1 = l1.val if l1 else 0  # Get the value from l1, or 0 if l1 is exhausted\n",
    "        val2 = l2.val if l2 else 0  # Get the value from l2, or 0 if l2 is exhausted\n",
    "        \n",
    "        total = val1 + val2 + carry  # Sum the values and the carry\n",
    "        carry = total // 10  # Update carry (total divided by 10)\n",
    "        current.next = ListNode(total % 10)  # Create a new node with the digit value\n",
    "        \n",
    "        current = current.next  # Move to the next node\n",
    "        l1 = l1.next if l1 else None  # Move to the next node in l1 if it exists\n",
    "        l2 = l2.next if l2 else None  # Move to the next node in l2 if it exists\n",
    "    \n",
    "    return dummy.next  # Return the next node after dummy, which is the head of the result list\n",
    "\n",
    "# Helper function to print the linked list\n",
    "def printLinkedList(head: ListNode):\n",
    "    current = head\n",
    "    while current:\n",
    "        print(current.val, end=\" -> \" if current.next else \"\")\n",
    "        current = current.next\n",
    "    print()\n",
    "\n",
    "# Example usage:\n",
    "l1 = ListNode(2, ListNode(4, ListNode(3)))\n",
    "l2 = ListNode(5, ListNode(6, ListNode(4)))\n",
    "\n",
    "print(\"List 1:\")\n",
    "printLinkedList(l1)\n",
    "\n",
    "print(\"List 2:\")\n",
    "printLinkedList(l2)\n",
    "\n",
    "result = addTwoNumbers(l1, l2)\n",
    "\n",
    "print(\"Sum List:\")\n",
    "printLinkedList(result)\n"
   ]
  },
  {
   "cell_type": "markdown",
   "metadata": {},
   "source": [
    "Problem 7: Swap nodes in pairs in a linked list.\n",
    "\n",
    "Input: 1 -> 2 -> 3 -> 4\n",
    "Output: 2 -> 1 -> 4 -> 3"
   ]
  },
  {
   "cell_type": "code",
   "execution_count": 3,
   "metadata": {},
   "outputs": [
    {
     "name": "stdout",
     "output_type": "stream",
     "text": [
      "Original List:\n",
      "1 -> 2 -> 3 -> 4\n",
      "List after swapping pairs:\n",
      "2 -> 1 -> 4 -> 3\n"
     ]
    }
   ],
   "source": [
    "class ListNode:\n",
    "    def __init__(self, val=0, next=None):\n",
    "        self.val = val\n",
    "        self.next = next\n",
    "\n",
    "def swapPairs(head: ListNode) -> ListNode:\n",
    "    dummy = ListNode(0)  # Dummy node to simplify edge cases\n",
    "    dummy.next = head\n",
    "    current = dummy\n",
    "    \n",
    "    while current.next and current.next.next:\n",
    "        first = current.next\n",
    "        second = current.next.next\n",
    "        \n",
    "        # Swapping nodes\n",
    "        first.next = second.next\n",
    "        second.next = first\n",
    "        current.next = second\n",
    "        \n",
    "        # Move the current pointer two nodes ahead\n",
    "        current = first\n",
    "    \n",
    "    return dummy.next\n",
    "\n",
    "# Helper function to print the linked list\n",
    "def printLinkedList(head: ListNode):\n",
    "    current = head\n",
    "    while current:\n",
    "        print(current.val, end=\" -> \" if current.next else \"\")\n",
    "        current = current.next\n",
    "    print()\n",
    "\n",
    "# Example usage:\n",
    "head = ListNode(1, ListNode(2, ListNode(3, ListNode(4))))\n",
    "\n",
    "print(\"Original List:\")\n",
    "printLinkedList(head)\n",
    "\n",
    "head = swapPairs(head)\n",
    "\n",
    "print(\"List after swapping pairs:\")\n",
    "printLinkedList(head)\n"
   ]
  },
  {
   "cell_type": "markdown",
   "metadata": {},
   "source": [
    "Problem 8: Reverse nodes in a linked list in groups of k.\n",
    "\n",
    "Input: 1 -> 2 -> 3 -> 4 -> 5, k = 3\n",
    "Output: 3 -> 2 -> 1 -> 4 -> 5"
   ]
  },
  {
   "cell_type": "code",
   "execution_count": 4,
   "metadata": {},
   "outputs": [
    {
     "name": "stdout",
     "output_type": "stream",
     "text": [
      "3 -> 2 -> 1 -> 4 -> 5\n"
     ]
    }
   ],
   "source": [
    "class ListNode:\n",
    "    def __init__(self, val=0, next=None):\n",
    "        self.val = val\n",
    "        self.next = next\n",
    "\n",
    "def reverseKGroup(head: ListNode, k: int) -> ListNode:\n",
    "    def reverse_linked_list(start: ListNode, end: ListNode) -> ListNode:\n",
    "        prev, curr = None, start\n",
    "        while curr != end:\n",
    "            next_node = curr.next\n",
    "            curr.next = prev\n",
    "            prev = curr\n",
    "            curr = next_node\n",
    "        return prev\n",
    "    \n",
    "    # Dummy node initialization\n",
    "    dummy = ListNode(0)\n",
    "    dummy.next = head\n",
    "    group_prev = dummy\n",
    "    \n",
    "    while True:\n",
    "        # Find the kth node in the group\n",
    "        kth = group_prev\n",
    "        for _ in range(k):\n",
    "            kth = kth.next\n",
    "            if not kth:\n",
    "                return dummy.next\n",
    "        \n",
    "        group_next = kth.next\n",
    "        # Reverse the group\n",
    "        prev, curr = group_prev.next, group_prev.next.next\n",
    "        first = group_prev.next\n",
    "        for _ in range(k - 1):\n",
    "            tmp = curr.next\n",
    "            curr.next = prev\n",
    "            prev = curr\n",
    "            curr = tmp\n",
    "        \n",
    "        group_prev.next = prev\n",
    "        first.next = group_next\n",
    "        group_prev = first\n",
    "\n",
    "# Helper function to create a linked list from a list of values\n",
    "def create_linked_list(lst):\n",
    "    dummy = ListNode(0)\n",
    "    tail = dummy\n",
    "    for val in lst:\n",
    "        tail.next = ListNode(val)\n",
    "        tail = tail.next\n",
    "    return dummy.next\n",
    "\n",
    "# Helper function to print a linked list\n",
    "def print_linked_list(head):\n",
    "    while head:\n",
    "        print(head.val, end=\" -> \" if head.next else \"\\n\")\n",
    "        head = head.next\n",
    "\n",
    "# Example usage\n",
    "head = create_linked_list([1, 2, 3, 4, 5])\n",
    "k = 3\n",
    "new_head = reverseKGroup(head, k)\n",
    "print_linked_list(new_head)\n"
   ]
  },
  {
   "cell_type": "markdown",
   "metadata": {},
   "source": [
    "Problem 9: Determine if a linked list is a palindrome. \n",
    "\n",
    "Input: 1 -> 2 -> 2 -> 1\n",
    "Output: True"
   ]
  },
  {
   "cell_type": "code",
   "execution_count": 8,
   "metadata": {},
   "outputs": [
    {
     "name": "stdout",
     "output_type": "stream",
     "text": [
      "True\n"
     ]
    }
   ],
   "source": [
    "class ListNode:\n",
    "    def __init__(self, val=0, next=None):\n",
    "        self.val = val\n",
    "        self.next = next\n",
    "\n",
    "def isPalindrome(head: ListNode) -> bool:\n",
    "    if not head or not head.next:\n",
    "        return True\n",
    "    \n",
    "    # Step 1: Find the middle of the linked list\n",
    "    slow, fast = head, head\n",
    "    while fast and fast.next:\n",
    "        slow = slow.next\n",
    "        fast = fast.next.next\n",
    "    \n",
    "    # Step 2: Reverse the second half of the list\n",
    "    prev, curr = None, slow\n",
    "    while curr:\n",
    "        next_node = curr.next\n",
    "        curr.next = prev\n",
    "        prev = curr\n",
    "        curr = next_node\n",
    "    \n",
    "    # Step 3: Compare the first half and the reversed second half\n",
    "    first_half, second_half = head, prev\n",
    "    while second_half:  # Only need to check the second half\n",
    "        if first_half.val != second_half.val:\n",
    "            return False\n",
    "        first_half = first_half.next\n",
    "        second_half = second_half.next\n",
    "    \n",
    "    # If we reached here, it means the list is a palindrome\n",
    "    return True\n",
    "\n",
    "# Helper function to create a linked list from a list of values\n",
    "def create_linked_list(lst):\n",
    "    dummy = ListNode(0)\n",
    "    tail = dummy\n",
    "    for val in lst:\n",
    "        tail.next = ListNode(val)\n",
    "        tail = tail.next\n",
    "    return dummy.next\n",
    "\n",
    "# Example usage\n",
    "head = create_linked_list([1, 2, 2, 1])\n",
    "print(isPalindrome(head))  "
   ]
  },
  {
   "cell_type": "markdown",
   "metadata": {},
   "source": [
    "Problem 10: Rotate a linked list to the right by k places.\n",
    "\n",
    "Input: 1 -> 2 -> 3 -> 4 -> 5, k = 2\n",
    "Output: 4 -> 5 -> 1 -> 2 -> 3"
   ]
  },
  {
   "cell_type": "code",
   "execution_count": 9,
   "metadata": {},
   "outputs": [
    {
     "name": "stdout",
     "output_type": "stream",
     "text": [
      "4 -> 5 -> 1 -> 2 -> 3\n"
     ]
    }
   ],
   "source": [
    "class ListNode:\n",
    "    def __init__(self, val=0, next=None):\n",
    "        self.val = val\n",
    "        self.next = next\n",
    "\n",
    "def rotateRight(head: ListNode, k: int) -> ListNode:\n",
    "    if not head or not head.next or k == 0:\n",
    "        return head\n",
    "    \n",
    "    # Step 1: Determine the length of the list\n",
    "    length = 1\n",
    "    tail = head\n",
    "    while tail.next:\n",
    "        tail = tail.next\n",
    "        length += 1\n",
    "    \n",
    "    # Step 2: Normalize k\n",
    "    k = k % length\n",
    "    if k == 0:\n",
    "        return head\n",
    "    \n",
    "    # Step 3: Find the new tail, which is at (length - k - 1)th position\n",
    "    new_tail = head\n",
    "    for _ in range(length - k - 1):\n",
    "        new_tail = new_tail.next\n",
    "    \n",
    "    # Step 4: Find the new head, which is at (length - k)th position\n",
    "    new_head = new_tail.next\n",
    "    \n",
    "    # Step 5: Rearrange the pointers\n",
    "    new_tail.next = None  # Break the link\n",
    "    tail.next = head      # Make the list circular by linking the tail to the head\n",
    "    \n",
    "    return new_head\n",
    "\n",
    "# Helper function to create a linked list from a list of values\n",
    "def create_linked_list(lst):\n",
    "    dummy = ListNode(0)\n",
    "    tail = dummy\n",
    "    for val in lst:\n",
    "        tail.next = ListNode(val)\n",
    "        tail = tail.next\n",
    "    return dummy.next\n",
    "\n",
    "# Helper function to print a linked list\n",
    "def print_linked_list(head):\n",
    "    while head:\n",
    "        print(head.val, end=\" -> \" if head.next else \"\\n\")\n",
    "        head = head.next\n",
    "\n",
    "# Example usage\n",
    "head = create_linked_list([1, 2, 3, 4, 5])\n",
    "k = 2\n",
    "new_head = rotateRight(head, k)\n",
    "print_linked_list(new_head)\n"
   ]
  },
  {
   "cell_type": "markdown",
   "metadata": {},
   "source": [
    "Problem 11: Flatten a multilevel doubly linked list.\n",
    "\n",
    "Input: 1 <-> 2 <-> 3 <-> 7 <-> 8 <-> 11 -> 12, 4 <-> 5 -> 9 -> 10, 6 -> 13\n",
    "Output: 1 <-> 2 <-> 3 <-> 4 <-> 5 <-> 6 <-> 7 <-> 8 <-> 9 <-> 10 <-> 11 <-> 12 <-> 13"
   ]
  },
  {
   "cell_type": "code",
   "execution_count": 10,
   "metadata": {},
   "outputs": [
    {
     "name": "stdout",
     "output_type": "stream",
     "text": [
      "1 <-> 2 <-> 3 <-> 4 <-> 5 <-> 6 <-> 13 <-> 7 <-> 9 <-> 10 <-> 8 <-> 11 <-> 12\n"
     ]
    }
   ],
   "source": [
    "class Node:\n",
    "    def __init__(self, val=0, prev=None, next=None, child=None):\n",
    "        self.val = val\n",
    "        self.prev = prev\n",
    "        self.next = next\n",
    "        self.child = child\n",
    "\n",
    "def flatten(head: 'Node') -> 'Node':\n",
    "    if not head:\n",
    "        return None\n",
    "\n",
    "    # Create a stack to manage nodes\n",
    "    stack = []\n",
    "    current = head\n",
    "\n",
    "    while current:\n",
    "        if current.child:\n",
    "            # If the current node has a child, push the next node onto the stack\n",
    "            if current.next:\n",
    "                stack.append(current.next)\n",
    "            \n",
    "            # Make the child the next node, and remove the child pointer\n",
    "            current.next = current.child\n",
    "            current.child.prev = current\n",
    "            current.child = None\n",
    "        \n",
    "        # If there's no next node and the stack isn't empty, pop from stack\n",
    "        if not current.next and stack:\n",
    "            next_node = stack.pop()\n",
    "            current.next = next_node\n",
    "            next_node.prev = current\n",
    "\n",
    "        # Move to the next node in the list\n",
    "        current = current.next\n",
    "    \n",
    "    return head\n",
    "\n",
    "# Helper functions to create and print a doubly linked list\n",
    "\n",
    "def print_doubly_linked_list(head: 'Node'):\n",
    "    while head:\n",
    "        print(head.val, end=\" <-> \" if head.next else \"\\n\")\n",
    "        head = head.next\n",
    "\n",
    "# Example usage\n",
    "# Create nodes for the test case\n",
    "n1 = Node(1)\n",
    "n2 = Node(2)\n",
    "n3 = Node(3)\n",
    "n4 = Node(4)\n",
    "n5 = Node(5)\n",
    "n6 = Node(6)\n",
    "n7 = Node(7)\n",
    "n8 = Node(8)\n",
    "n9 = Node(9)\n",
    "n10 = Node(10)\n",
    "n11 = Node(11)\n",
    "n12 = Node(12)\n",
    "n13 = Node(13)\n",
    "\n",
    "# Link nodes at the top level\n",
    "n1.next = n2\n",
    "n2.prev = n1\n",
    "n2.next = n3\n",
    "n3.prev = n2\n",
    "n3.next = n7\n",
    "n7.prev = n3\n",
    "n7.next = n8\n",
    "n8.prev = n7\n",
    "n8.next = n11\n",
    "n11.prev = n8\n",
    "n11.next = n12\n",
    "n12.prev = n11\n",
    "\n",
    "# Link child nodes\n",
    "n3.child = n4\n",
    "n4.next = n5\n",
    "n5.prev = n4\n",
    "n5.child = n6\n",
    "n7.child = n9\n",
    "n9.next = n10\n",
    "n10.prev = n9\n",
    "n6.child = n13\n",
    "\n",
    "# Flatten the list\n",
    "flattened_head = flatten(n1)\n",
    "\n",
    "# Print the flattened list\n",
    "print_doubly_linked_list(flattened_head)\n"
   ]
  },
  {
   "cell_type": "markdown",
   "metadata": {},
   "source": [
    "Problem 12: Rearrange a linked list such that all even positioned nodes are placed at the end.\n",
    "Input: 1 -> 2 -> 3 -> 4 -> 5\n",
    "Output: 1 -> 3 -> 5 -> 2 -> 4"
   ]
  },
  {
   "cell_type": "code",
   "execution_count": 11,
   "metadata": {},
   "outputs": [
    {
     "name": "stdout",
     "output_type": "stream",
     "text": [
      "1 -> 3 -> 5 -> 2 -> 4\n"
     ]
    }
   ],
   "source": [
    "class ListNode:\n",
    "    def __init__(self, val=0, next=None):\n",
    "        self.val = val\n",
    "        self.next = next\n",
    "\n",
    "def rearrangeEvenOdd(head: ListNode) -> ListNode:\n",
    "    if not head or not head.next:\n",
    "        return head\n",
    "    \n",
    "    odd = head\n",
    "    even = head.next\n",
    "    even_head = even  # Keep track of the start of the even list\n",
    "    \n",
    "    # Traverse the list, re-linking odd and even nodes\n",
    "    while even and even.next:\n",
    "        odd.next = even.next\n",
    "        odd = odd.next\n",
    "        even.next = odd.next\n",
    "        even = even.next\n",
    "    \n",
    "    # Concatenate the even list to the end of the odd list\n",
    "    odd.next = even_head\n",
    "    \n",
    "    return head\n",
    "\n",
    "# Helper function to create a linked list from a list of values\n",
    "def create_linked_list(lst):\n",
    "    dummy = ListNode(0)\n",
    "    tail = dummy\n",
    "    for val in lst:\n",
    "        tail.next = ListNode(val)\n",
    "        tail = tail.next\n",
    "    return dummy.next\n",
    "\n",
    "# Helper function to print a linked list\n",
    "def print_linked_list(head):\n",
    "    while head:\n",
    "        print(head.val, end=\" -> \" if head.next else \"\\n\")\n",
    "        head = head.next\n",
    "\n",
    "# Example usage\n",
    "head = create_linked_list([1, 2, 3, 4, 5])\n",
    "new_head = rearrangeEvenOdd(head)\n",
    "print_linked_list(new_head)\n"
   ]
  },
  {
   "cell_type": "markdown",
   "metadata": {},
   "source": [
    "Problem 13: Given a non-negative number represented as a linked list, add one to it.\n",
    "\n",
    "Input: 1 -> 2 -> 3 (represents the number 123)\n",
    "Output: 1 -> 2 -> 4 (represents the number 124)"
   ]
  },
  {
   "cell_type": "code",
   "execution_count": 12,
   "metadata": {},
   "outputs": [
    {
     "name": "stdout",
     "output_type": "stream",
     "text": [
      "1 -> 2 -> 4\n"
     ]
    }
   ],
   "source": [
    "class ListNode:\n",
    "    def __init__(self, val=0, next=None):\n",
    "        self.val = val\n",
    "        self.next = next\n",
    "\n",
    "def reverseList(head: ListNode) -> ListNode:\n",
    "    prev = None\n",
    "    current = head\n",
    "    while current:\n",
    "        next_node = current.next\n",
    "        current.next = prev\n",
    "        prev = current\n",
    "        current = next_node\n",
    "    return prev\n",
    "\n",
    "def addOne(head: ListNode) -> ListNode:\n",
    "    # Step 1: Reverse the linked list\n",
    "    head = reverseList(head)\n",
    "    \n",
    "    # Step 2: Add one to the reversed list\n",
    "    current = head\n",
    "    carry = 1\n",
    "    while current:\n",
    "        new_val = current.val + carry\n",
    "        carry = new_val // 10\n",
    "        current.val = new_val % 10\n",
    "        if carry == 0:\n",
    "            break\n",
    "        if not current.next and carry:\n",
    "            current.next = ListNode(carry)\n",
    "            break\n",
    "        current = current.next\n",
    "    \n",
    "    # Step 3: Reverse the list again to restore the original order\n",
    "    head = reverseList(head)\n",
    "    \n",
    "    return head\n",
    "\n",
    "# Helper function to create a linked list from a list of values\n",
    "def create_linked_list(lst):\n",
    "    dummy = ListNode(0)\n",
    "    tail = dummy\n",
    "    for val in lst:\n",
    "        tail.next = ListNode(val)\n",
    "        tail = tail.next\n",
    "    return dummy.next\n",
    "\n",
    "# Helper function to print a linked list\n",
    "def print_linked_list(head):\n",
    "    while head:\n",
    "        print(head.val, end=\" -> \" if head.next else \"\\n\")\n",
    "        head = head.next\n",
    "\n",
    "# Example usage\n",
    "head = create_linked_list([1, 2, 3])\n",
    "new_head = addOne(head)\n",
    "print_linked_list(new_head)\n"
   ]
  },
  {
   "cell_type": "markdown",
   "metadata": {},
   "source": [
    "Problem 14: Given a sorted array and a target value, return the index if the target is found. If not, return the\n",
    "index where it would be inserted.\n",
    "\n",
    "Input: nums = [1, 3, 5, 6], target = 5\n",
    "Output: 2"
   ]
  },
  {
   "cell_type": "code",
   "execution_count": 13,
   "metadata": {},
   "outputs": [
    {
     "name": "stdout",
     "output_type": "stream",
     "text": [
      "2\n"
     ]
    }
   ],
   "source": [
    "def searchInsert(nums, target):\n",
    "    left, right = 0, len(nums) - 1\n",
    "    \n",
    "    while left <= right:\n",
    "        mid = (left + right) // 2\n",
    "        if nums[mid] == target:\n",
    "            return mid\n",
    "        elif nums[mid] < target:\n",
    "            left = mid + 1\n",
    "        else:\n",
    "            right = mid - 1\n",
    "    \n",
    "    return left\n",
    "\n",
    "# Example usage\n",
    "nums = [1, 3, 5, 6]\n",
    "target = 5\n",
    "output = searchInsert(nums, target)\n",
    "print(output)  # Output will be 2\n"
   ]
  },
  {
   "cell_type": "markdown",
   "metadata": {},
   "source": [
    "Problem 15: Find the minimum element in a rotated sorted array.\n",
    "\n",
    "Input: [4, 5, 6, 7, 0, 1, 2]\n",
    "Output: 0"
   ]
  },
  {
   "cell_type": "code",
   "execution_count": 14,
   "metadata": {},
   "outputs": [
    {
     "name": "stdout",
     "output_type": "stream",
     "text": [
      "0\n"
     ]
    }
   ],
   "source": [
    "def findMin(nums):\n",
    "    left, right = 0, len(nums) - 1\n",
    "    \n",
    "    while left < right:\n",
    "        mid = (left + right) // 2\n",
    "        \n",
    "        if nums[mid] > nums[right]:\n",
    "            # Minimum is in the right half\n",
    "            left = mid + 1\n",
    "        else:\n",
    "            # Minimum is in the left half or at mid\n",
    "            right = mid\n",
    "    \n",
    "    return nums[left]\n",
    "\n",
    "# Example usage\n",
    "nums = [4, 5, 6, 7, 0, 1, 2]\n",
    "output = findMin(nums)\n",
    "print(output)  # Output will be 0\n"
   ]
  },
  {
   "cell_type": "markdown",
   "metadata": {},
   "source": [
    "Problem 16: Search for a target value in a rotated sorted array.\n",
    "\n",
    "Input: nums = [4, 5, 6, 7, 0, 1, 2], target = 0\n",
    "Output: 4"
   ]
  },
  {
   "cell_type": "code",
   "execution_count": 16,
   "metadata": {},
   "outputs": [
    {
     "name": "stdout",
     "output_type": "stream",
     "text": [
      "4\n"
     ]
    }
   ],
   "source": [
    "def search(nums, target):\n",
    "    left, right = 0, len(nums) - 1\n",
    "    \n",
    "    while left <= right:\n",
    "        mid = (left + right) // 2\n",
    "        \n",
    "        if nums[mid] == target:\n",
    "            return mid\n",
    "        \n",
    "        if nums[left] <= nums[mid]:  # Left half is sorted\n",
    "            if nums[left] <= target < nums[mid]:  # Target is in the left half\n",
    "                right = mid - 1\n",
    "            else:  # Target is in the right half\n",
    "                left = mid + 1\n",
    "        else:  # Right half is sorted\n",
    "            if nums[mid] < target <= nums[right]:  # Target is in the right half\n",
    "                left = mid + 1\n",
    "            else:  # Target is in the left half\n",
    "                right = mid - 1\n",
    "    \n",
    "    return -1\n",
    "\n",
    "# Example usage\n",
    "nums = [4, 5, 6, 7, 0, 1, 2]\n",
    "target = 0\n",
    "output = search(nums, target)\n",
    "print(output) "
   ]
  },
  {
   "cell_type": "markdown",
   "metadata": {},
   "source": [
    "Problem 17: Find the peak element in an array. A peak element is greater than its neighbors. \n",
    "\n",
    "Input: nums = [1, 2, 3, 1]\n",
    "Output: 2 (index of peak element)"
   ]
  },
  {
   "cell_type": "code",
   "execution_count": 18,
   "metadata": {},
   "outputs": [
    {
     "name": "stdout",
     "output_type": "stream",
     "text": [
      "2\n"
     ]
    }
   ],
   "source": [
    "def findPeakElement(nums):\n",
    "    left, right = 0, len(nums) - 1\n",
    "    \n",
    "    while left <= right:\n",
    "        mid = (left + right) // 2\n",
    "        \n",
    "        # Check if mid is a peak element\n",
    "        if (mid == 0 or nums[mid] > nums[mid - 1]) and (mid == len(nums) - 1 or nums[mid] > nums[mid + 1]):\n",
    "            return mid\n",
    "        # Move to the right half if the element is less than its right neighbor\n",
    "        elif mid < len(nums) - 1 and nums[mid] < nums[mid + 1]:\n",
    "            left = mid + 1\n",
    "        # Move to the left half if the element is less than its left neighbor\n",
    "        else:\n",
    "            right = mid - 1\n",
    "    \n",
    "    return -1  # Should not reach here for a valid input\n",
    "\n",
    "# Example usage\n",
    "nums = [1, 2, 3, 1]\n",
    "output = findPeakElement(nums)\n",
    "print(output) \n"
   ]
  },
  {
   "cell_type": "markdown",
   "metadata": {},
   "source": [
    "Problem 18: Given a m x n matrix where each row and column is sorted in ascending order, count the number\n",
    "of negative numbers.\n",
    "\n",
    "Input: grid = [[4, 3, 2, -1], [3, 2, 1, -1], [1, 1, -1, -2], [-1, -1, -2, -3]]\n",
    "Output: 8"
   ]
  },
  {
   "cell_type": "code",
   "execution_count": 25,
   "metadata": {},
   "outputs": [
    {
     "name": "stdout",
     "output_type": "stream",
     "text": [
      "16\n"
     ]
    }
   ],
   "source": [
    "def countNegatives(grid):\n",
    "    m, n = len(grid), len(grid[0])\n",
    "    count = 0\n",
    "    row, col = 0, n - 1  # Start from the top-right corner\n",
    "\n",
    "    while row < m and col >= 0:\n",
    "        if grid[row][col] < 0:\n",
    "            # All elements to the left in this row are negative\n",
    "            count += (col + 1)\n",
    "            row += 1  # Move down to the next row\n",
    "        else:\n",
    "            col -= 1  # Move left in the current row\n",
    "\n",
    "    return count\n",
    "\n",
    "# Example usage\n",
    "grid = [[4, 3, 2, -1], [3, 2, 1, -1], [1, 1, -1, -2], [-1, -1, -2, -3]]\n",
    "output = countNegatives(grid)\n",
    "print(output)  \n"
   ]
  },
  {
   "cell_type": "markdown",
   "metadata": {},
   "source": [
    "Problem 19: Given a 2D matrix sorted in ascending order in each row, and the first integer of each row is greater than the last integer of the previous row, determine if a target value is present in the matrix.\n",
    "\n",
    "Input: matrix = [[1, 3, 5, 7], [10, 11, 16, 20], [23, 30, 34, 60]], target = 3\n",
    "Output: True"
   ]
  },
  {
   "cell_type": "code",
   "execution_count": 26,
   "metadata": {},
   "outputs": [
    {
     "name": "stdout",
     "output_type": "stream",
     "text": [
      "True\n"
     ]
    }
   ],
   "source": [
    "def searchMatrix(matrix, target):\n",
    "    # Function to perform binary search on a single row\n",
    "    def binarySearch(row, target):\n",
    "        left, right = 0, len(row) - 1\n",
    "        while left <= right:\n",
    "            mid = (left + right) // 2\n",
    "            if row[mid] == target:\n",
    "                return True\n",
    "            elif row[mid] < target:\n",
    "                left = mid + 1\n",
    "            else:\n",
    "                right = mid - 1\n",
    "        return False\n",
    "\n",
    "    # Iterate through each row and perform binary search\n",
    "    for row in matrix:\n",
    "        if binarySearch(row, target):\n",
    "            return True\n",
    "\n",
    "    return False\n",
    "\n",
    "# Example usage\n",
    "matrix = [[1, 3, 5, 7], [10, 11, 16, 20], [23, 30, 34, 60]]\n",
    "target = 3\n",
    "output = searchMatrix(matrix, target)\n",
    "print(output)  # Output will be True\n"
   ]
  },
  {
   "cell_type": "markdown",
   "metadata": {},
   "source": [
    "Problem 20: Find Median in Two Sorted Arrays\n",
    "\n",
    "Problem: Given two sorted arrays, find the median of the combined sorted array.\n",
    "Input: nums1 = [1, 3], nums2 = [2]\n",
    "Output: 2.0"
   ]
  },
  {
   "cell_type": "code",
   "execution_count": 27,
   "metadata": {},
   "outputs": [
    {
     "name": "stdout",
     "output_type": "stream",
     "text": [
      "2\n"
     ]
    }
   ],
   "source": [
    "def findMedianSortedArrays(nums1, nums2):\n",
    "    # Ensure nums1 is the smaller array\n",
    "    if len(nums1) > len(nums2):\n",
    "        nums1, nums2 = nums2, nums1\n",
    "    \n",
    "    x, y = len(nums1), len(nums2)\n",
    "    low, high = 0, x\n",
    "    \n",
    "    while low <= high:\n",
    "        partitionX = (low + high) // 2\n",
    "        partitionY = (x + y + 1) // 2 - partitionX\n",
    "        \n",
    "        maxX = float('-inf') if partitionX == 0 else nums1[partitionX - 1]\n",
    "        minX = float('inf') if partitionX == x else nums1[partitionX]\n",
    "        \n",
    "        maxY = float('-inf') if partitionY == 0 else nums2[partitionY - 1]\n",
    "        minY = float('inf') if partitionY == y else nums2[partitionY]\n",
    "        \n",
    "        if maxX <= minY and maxY <= minX:\n",
    "            if (x + y) % 2 == 0:\n",
    "                return (max(maxX, maxY) + min(minX, minY)) / 2.0\n",
    "            else:\n",
    "                return max(maxX, maxY)\n",
    "        elif maxX > minY:\n",
    "            high = partitionX - 1\n",
    "        else:\n",
    "            low = partitionX + 1\n",
    "    \n",
    "    raise ValueError(\"Input arrays are not sorted correctly or have some issue.\")\n",
    "\n",
    "# Example usage\n",
    "nums1 = [1, 3]\n",
    "nums2 = [2]\n",
    "output = findMedianSortedArrays(nums1, nums2)\n",
    "print(output)  # Output will be 2.0\n"
   ]
  },
  {
   "cell_type": "markdown",
   "metadata": {},
   "source": [
    "Problem 21: Given a sorted character array and a target letter, find the smallest letter in the array that is greater than the target.\n",
    "\n",
    "Input: letters = ['c', 'f', 'j'], target = a\n",
    "Output: 'c'"
   ]
  },
  {
   "cell_type": "code",
   "execution_count": 28,
   "metadata": {},
   "outputs": [
    {
     "name": "stdout",
     "output_type": "stream",
     "text": [
      "c\n"
     ]
    }
   ],
   "source": [
    "def nextGreatestLetter(letters, target):\n",
    "    left, right = 0, len(letters) - 1\n",
    "    \n",
    "    while left <= right:\n",
    "        mid = (left + right) // 2\n",
    "        if letters[mid] <= target:\n",
    "            left = mid + 1\n",
    "        else:\n",
    "            right = mid - 1\n",
    "    \n",
    "    # Since the letters array is circular, use modulo to wrap around\n",
    "    return letters[left % len(letters)]\n",
    "\n",
    "# Example usage\n",
    "letters = ['c', 'f', 'j']\n",
    "target = 'a'\n",
    "output = nextGreatestLetter(letters, target)\n",
    "print(output)  # Output will be 'c'\n"
   ]
  },
  {
   "cell_type": "markdown",
   "metadata": {},
   "source": [
    "Problem 22: Given an array with n objects colored red, white, or blue, sort them in-place so that objects of\n",
    "the same color are adjacent, with the colors in the order red, white, and blue.\n",
    "\n",
    "Input: nums = [2, 0, 2, 1, 1, 0]\n",
    "Output: [0, 0, 1, 1, 2, 2]"
   ]
  },
  {
   "cell_type": "code",
   "execution_count": 29,
   "metadata": {},
   "outputs": [
    {
     "name": "stdout",
     "output_type": "stream",
     "text": [
      "[0, 0, 1, 1, 2, 2]\n"
     ]
    }
   ],
   "source": [
    "def sortColors(nums):\n",
    "    low, mid, high = 0, 0, len(nums) - 1\n",
    "    \n",
    "    while mid <= high:\n",
    "        if nums[mid] == 0:\n",
    "            # Swap nums[low] and nums[mid], then increment both low and mid\n",
    "            nums[low], nums[mid] = nums[mid], nums[low]\n",
    "            low += 1\n",
    "            mid += 1\n",
    "        elif nums[mid] == 1:\n",
    "            # Move forward if nums[mid] is 1\n",
    "            mid += 1\n",
    "        else:\n",
    "            # Swap nums[mid] and nums[high], then decrement high\n",
    "            nums[high], nums[mid] = nums[mid], nums[high]\n",
    "            high -= 1\n",
    "\n",
    "# Example usage\n",
    "nums = [2, 0, 2, 1, 1, 0]\n",
    "sortColors(nums)\n",
    "print(nums)  # Output will be [0, 0, 1, 1, 2, 2]\n"
   ]
  },
  {
   "cell_type": "markdown",
   "metadata": {},
   "source": [
    "Problem 23: Find the kth largest element in an unsorted array.\n",
    "\n",
    "Input: nums = [3, 2, 1, 5, 6, 4], k = 2\n",
    "Output: 5"
   ]
  },
  {
   "cell_type": "code",
   "execution_count": 30,
   "metadata": {},
   "outputs": [
    {
     "name": "stdout",
     "output_type": "stream",
     "text": [
      "5\n"
     ]
    }
   ],
   "source": [
    "import random\n",
    "\n",
    "def quickselect(nums, k):\n",
    "    def partition(left, right, pivot_index):\n",
    "        pivot = nums[pivot_index]\n",
    "        nums[pivot_index], nums[right] = nums[right], nums[pivot_index]\n",
    "        store_index = left\n",
    "        for i in range(left, right):\n",
    "            if nums[i] > pivot:\n",
    "                nums[store_index], nums[i] = nums[i], nums[store_index]\n",
    "                store_index += 1\n",
    "        nums[right], nums[store_index] = nums[store_index], nums[right]\n",
    "        return store_index\n",
    "\n",
    "    def select(left, right, k_smallest):\n",
    "        if left == right:\n",
    "            return nums[left]\n",
    "        pivot_index = random.randint(left, right)\n",
    "        pivot_index = partition(left, right, pivot_index)\n",
    "        if k_smallest == pivot_index:\n",
    "            return nums[k_smallest]\n",
    "        elif k_smallest < pivot_index:\n",
    "            return select(left, pivot_index - 1, k_smallest)\n",
    "        else:\n",
    "            return select(pivot_index + 1, right, k_smallest)\n",
    "    \n",
    "    return select(0, len(nums) - 1, k - 1)\n",
    "\n",
    "# Example usage\n",
    "nums = [3, 2, 1, 5, 6, 4]\n",
    "k = 2\n",
    "output = quickselect(nums, k)\n",
    "print(output)  # Output will be 5\n"
   ]
  },
  {
   "cell_type": "markdown",
   "metadata": {},
   "source": [
    "Problem 24: Given an unsorted array, reorder it in-place such that nums[0] <= nums[1] >= nums[2] <= nums[3]...\n",
    "\n",
    "Input: nums = [3, 5, 2, 1, 6, 4]\n",
    "Output: [3, 5, 1, 6, 2, 4]"
   ]
  },
  {
   "cell_type": "code",
   "execution_count": 33,
   "metadata": {},
   "outputs": [
    {
     "name": "stdout",
     "output_type": "stream",
     "text": [
      "[3, 5, 1, 6, 2, 4]\n"
     ]
    }
   ],
   "source": [
    "def wiggleSort(nums):\n",
    "    for i in range(len(nums) - 1):\n",
    "        if (i % 2 == 0 and nums[i] > nums[i + 1]) or (i % 2 == 1 and nums[i] < nums[i + 1]):\n",
    "            nums[i], nums[i + 1] = nums[i + 1], nums[i]\n",
    "\n",
    "# Example usage\n",
    "nums = [3, 5, 2, 1, 6, 4]\n",
    "wiggleSort(nums)\n",
    "print(nums)  # Output: [3, 5, 1, 6, 2, 4]\n"
   ]
  },
  {
   "cell_type": "markdown",
   "metadata": {},
   "source": [
    "Problem 25: Given an array of integers, calculate the sum of all its elements.\n",
    "\n",
    "Input: [1, 2, 3, 4, 5]\n",
    "Output: 15"
   ]
  },
  {
   "cell_type": "code",
   "execution_count": 34,
   "metadata": {},
   "outputs": [
    {
     "name": "stdout",
     "output_type": "stream",
     "text": [
      "15\n"
     ]
    }
   ],
   "source": [
    "def arraySum(nums):\n",
    "    return sum(nums)\n",
    "\n",
    "# Example usage\n",
    "nums = [1, 2, 3, 4, 5]\n",
    "output = arraySum(nums)\n",
    "print(output)  # Output: 15\n"
   ]
  },
  {
   "cell_type": "markdown",
   "metadata": {},
   "source": [
    "Problem 26: Find the maximum element in an array of integers.  \n",
    "Input: [3, 7, 2, 9, 4, 1]\n",
    "Output: 9"
   ]
  },
  {
   "cell_type": "code",
   "execution_count": 35,
   "metadata": {},
   "outputs": [
    {
     "name": "stdout",
     "output_type": "stream",
     "text": [
      "9\n"
     ]
    }
   ],
   "source": [
    "def findMax(nums):\n",
    "    if not nums:\n",
    "        raise ValueError(\"The array is empty\")\n",
    "    \n",
    "    max_value = nums[0]\n",
    "    for num in nums[1:]:\n",
    "        if num > max_value:\n",
    "            max_value = num\n",
    "    return max_value\n",
    "\n",
    "# Example usage\n",
    "nums = [3, 7, 2, 9, 4, 1]\n",
    "output = findMax(nums)\n",
    "print(output)  # Output: 9\n"
   ]
  },
  {
   "cell_type": "markdown",
   "metadata": {},
   "source": [
    "Problem 27: Implement linear search to find the index of a target element in an array. \n",
    "Input: [5, 3, 8, 2, 7, 4], target = 8\n",
    "Output: 2"
   ]
  },
  {
   "cell_type": "code",
   "execution_count": 36,
   "metadata": {},
   "outputs": [
    {
     "name": "stdout",
     "output_type": "stream",
     "text": [
      "2\n"
     ]
    }
   ],
   "source": [
    "def linearSearch(nums, target):\n",
    "    for index, value in enumerate(nums):\n",
    "        if value == target:\n",
    "            return index\n",
    "    return -1\n",
    "\n",
    "# Example usage\n",
    "nums = [5, 3, 8, 2, 7, 4]\n",
    "target = 8\n",
    "output = linearSearch(nums, target)\n",
    "print(output)  # Output: 2\n"
   ]
  },
  {
   "cell_type": "markdown",
   "metadata": {},
   "source": [
    "Problem 28 Calculate the factorial of a given number.\n",
    "Input: 5\n",
    "Output: 120 (as 5! = 5 * 4 * 3 * 2 * 1 = 120)"
   ]
  },
  {
   "cell_type": "code",
   "execution_count": 37,
   "metadata": {},
   "outputs": [
    {
     "name": "stdout",
     "output_type": "stream",
     "text": [
      "120\n"
     ]
    }
   ],
   "source": [
    "def factorial_iterative(n):\n",
    "    result = 1\n",
    "    for i in range(1, n + 1):\n",
    "        result *= i\n",
    "    return result\n",
    "\n",
    "# Example usage\n",
    "n = 5\n",
    "output = factorial_iterative(n)\n",
    "print(output)  # Output: 120\n"
   ]
  },
  {
   "cell_type": "markdown",
   "metadata": {},
   "source": [
    "Problem 29: Check if a given number is a prime number.\n",
    "\n",
    "Input: 7\n",
    "Output: True"
   ]
  },
  {
   "cell_type": "code",
   "execution_count": 38,
   "metadata": {},
   "outputs": [
    {
     "name": "stdout",
     "output_type": "stream",
     "text": [
      "True\n"
     ]
    }
   ],
   "source": [
    "import math\n",
    "\n",
    "def isPrime(num):\n",
    "    if num <= 1:\n",
    "        return False\n",
    "    if num <= 3:\n",
    "        return True\n",
    "    if num % 2 == 0 or num % 3 == 0:\n",
    "        return False\n",
    "    i = 5\n",
    "    while i * i <= num:\n",
    "        if num % i == 0 or num % (i + 2) == 0:\n",
    "            return False\n",
    "        i += 6\n",
    "    return True\n",
    "\n",
    "# Example usage\n",
    "num = 7\n",
    "output = isPrime(num)\n",
    "print(output) "
   ]
  },
  {
   "cell_type": "markdown",
   "metadata": {},
   "source": [
    "Problem 30: Generate the Fibonacci series up to a given number n.\n",
    "Input: 8\n",
    "Output: [0, 1, 1, 2, 3, 5, 8, 13]"
   ]
  },
  {
   "cell_type": "code",
   "execution_count": 39,
   "metadata": {},
   "outputs": [
    {
     "name": "stdout",
     "output_type": "stream",
     "text": [
      "[0, 1, 1, 2, 3, 5, 8]\n"
     ]
    }
   ],
   "source": [
    "def fibonacciUpTo(n):\n",
    "    if n < 0:\n",
    "        return []\n",
    "    \n",
    "    fib_series = [0]\n",
    "    if n == 0:\n",
    "        return fib_series\n",
    "    \n",
    "    fib_series.append(1)\n",
    "    if n == 1:\n",
    "        return fib_series\n",
    "    \n",
    "    while True:\n",
    "        next_fib = fib_series[-1] + fib_series[-2]\n",
    "        if next_fib > n:\n",
    "            break\n",
    "        fib_series.append(next_fib)\n",
    "    \n",
    "    return fib_series\n",
    "\n",
    "# Example usage\n",
    "n = 8\n",
    "output = fibonacciUpTo(n)\n",
    "print(output)  # Output: [0, 1, 1, 2, 3, 5, 8]\n"
   ]
  },
  {
   "cell_type": "markdown",
   "metadata": {},
   "source": [
    "Problem 31: Calculate the power of a number using recursion.\n",
    "Input: base = 3, exponent = 4\n",
    "Output: 81 (as 3^4 = 3 * 3 * 3 * 3 = 81)"
   ]
  },
  {
   "cell_type": "code",
   "execution_count": 40,
   "metadata": {},
   "outputs": [
    {
     "name": "stdout",
     "output_type": "stream",
     "text": [
      "81\n"
     ]
    }
   ],
   "source": [
    "def power(base, exp):\n",
    "    # Base cases\n",
    "    if exp == 0:\n",
    "        return 1\n",
    "    if exp == 1:\n",
    "        return base\n",
    "    \n",
    "    # Recursive case\n",
    "    return base * power(base, exp - 1)\n",
    "\n",
    "# Example usage\n",
    "base = 3\n",
    "exp = 4\n",
    "output = power(base, exp)\n",
    "print(output)  \n"
   ]
  },
  {
   "cell_type": "markdown",
   "metadata": {},
   "source": [
    "Problem 32: Reverse a given string. \n",
    "Input: \"hello\"\n",
    "Output: \"olleh\""
   ]
  },
  {
   "cell_type": "code",
   "execution_count": 41,
   "metadata": {},
   "outputs": [
    {
     "name": "stdout",
     "output_type": "stream",
     "text": [
      "olleh\n"
     ]
    }
   ],
   "source": [
    "def reverse_string_recursive(s):\n",
    "    if len(s) == 0:\n",
    "        return s\n",
    "    else:\n",
    "        return reverse_string_recursive(s[1:]) + s[0]\n",
    "\n",
    "# Example usage\n",
    "input_str = \"hello\"\n",
    "output = reverse_string_recursive(input_str)\n",
    "print(output)  # Output: \"olleh\"\n"
   ]
  }
 ],
 "metadata": {
  "kernelspec": {
   "display_name": "base",
   "language": "python",
   "name": "python3"
  },
  "language_info": {
   "codemirror_mode": {
    "name": "ipython",
    "version": 3
   },
   "file_extension": ".py",
   "mimetype": "text/x-python",
   "name": "python",
   "nbconvert_exporter": "python",
   "pygments_lexer": "ipython3",
   "version": "3.11.4"
  }
 },
 "nbformat": 4,
 "nbformat_minor": 2
}
